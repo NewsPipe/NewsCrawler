{
 "cells": [
  {
   "cell_type": "code",
   "execution_count": null,
   "metadata": {
    "pycharm": {
     "is_executing": false
    }
   },
   "outputs": [],
   "source": [
    "from newscrawler import Crawler"
   ]
  },
  {
   "cell_type": "code",
   "execution_count": null,
   "metadata": {},
   "outputs": [],
   "source": [
    "crawler = Crawler(\"zeit.de\")\n",
    "print(crawler.rss_feed)"
   ]
  },
  {
   "cell_type": "code",
   "execution_count": null,
   "metadata": {},
   "outputs": [],
   "source": [
    "crawler = Crawler(\"welt.de\")\n",
    "print(crawler.rss_feed)"
   ]
  },
  {
   "cell_type": "code",
   "execution_count": null,
   "metadata": {},
   "outputs": [],
   "source": [
    "crawler = Crawler(\"faz.net\")\n",
    "print(crawler.rss_feed)"
   ]
  },
  {
   "cell_type": "code",
   "execution_count": null,
   "metadata": {},
   "outputs": [],
   "source": [
    "crawler = Crawler(\"sueddeutsche.de\")\n",
    "print(crawler.rss_feed)"
   ]
  },
  {
   "cell_type": "code",
   "execution_count": null,
   "metadata": {},
   "outputs": [],
   "source": [
    "crawler = Crawler(\"heise.de\")\n",
    "print(crawler.rss_feed)"
   ]
  },
  {
   "cell_type": "code",
   "execution_count": null,
   "metadata": {},
   "outputs": [],
   "source": [
    "crawler = Crawler(\"bild.de\")\n",
    "print(crawler.rss_feed)"
   ]
  },
  {
   "cell_type": "code",
   "execution_count": null,
   "metadata": {},
   "outputs": [],
   "source": [
    "crawler = Crawler(\"spiegel.de\")\n",
    "print(crawler.rss_feed)"
   ]
  },
  {
   "cell_type": "code",
   "execution_count": null,
   "metadata": {},
   "outputs": [],
   "source": [
    "crawler = Crawler(\"Handelsblatt.com\")\n",
    "print(crawler.rss_feed)"
   ]
  },
  {
   "cell_type": "code",
   "execution_count": null,
   "metadata": {},
   "outputs": [],
   "source": [
    "crawler = Crawler(\"http://tagesspiegel.de\")\n",
    "print(crawler.rss_feed)"
   ]
  },
  {
   "cell_type": "code",
   "execution_count": null,
   "metadata": {},
   "outputs": [],
   "source": [
    "crawler = Crawler(\"taz.de\")\n",
    "print(crawler.rss_feed)"
   ]
  },
  {
   "cell_type": "code",
   "execution_count": null,
   "metadata": {},
   "outputs": [],
   "source": [
    "crawler = Crawler(\"focus.de\")\n",
    "print(crawler.rss_feed)"
   ]
  },
  {
   "cell_type": "code",
   "execution_count": null,
   "metadata": {},
   "outputs": [],
   "source": [
    "crawler = Crawler(\"fr.de\")\n",
    "print(crawler.rss_feed)"
   ]
  },
  {
   "cell_type": "code",
   "execution_count": null,
   "metadata": {},
   "outputs": [],
   "source": [
    "crawler = Crawler(\"neues-deutschland.de\")\n",
    "print(crawler.rss_feed)"
   ]
  },
  {
   "cell_type": "code",
   "execution_count": null,
   "metadata": {},
   "outputs": [],
   "source": [
    "crawler = Crawler(\"jungewelt.de\")\n",
    "print(crawler.rss_feed)"
   ]
  },
  {
   "cell_type": "code",
   "execution_count": null,
   "metadata": {},
   "outputs": [],
   "source": [
    "crawler = Crawler(\"badische-zeitung.de\")\n",
    "print(crawler.rss_feed)"
   ]
  },
  {
   "cell_type": "code",
   "execution_count": null,
   "metadata": {},
   "outputs": [],
   "source": [
    "crawler = Crawler(\"morgenpost.de\")\n",
    "print(crawler.rss_feed)"
   ]
  },
  {
   "cell_type": "code",
   "execution_count": null,
   "metadata": {},
   "outputs": [],
   "source": [
    "crawler = Crawler(\"braunschweiger-zeitung.de\")\n",
    "print(crawler.rss_feed)"
   ]
  },
  {
   "cell_type": "code",
   "execution_count": null,
   "metadata": {},
   "outputs": [],
   "source": [
    "crawler = Crawler(\"jungefreiheit.de\")\n",
    "print(crawler.rss_feed)"
   ]
  },
  {
   "cell_type": "code",
   "execution_count": null,
   "metadata": {},
   "outputs": [],
   "source": [
    "crawler = Crawler(\"mopo.de\")\n",
    "print(crawler.rss_feed)"
   ]
  },
  {
   "cell_type": "code",
   "execution_count": null,
   "metadata": {},
   "outputs": [],
   "source": [
    "crawler = Crawler(\"abendzeitung-muenchen.de\")\n",
    "print(crawler.rss_feed)"
   ]
  },
  {
   "cell_type": "code",
   "execution_count": null,
   "metadata": {},
   "outputs": [],
   "source": [
    "crawler = Crawler(\"berliner-zeitung.de\")\n",
    "print(crawler.rss_feed)"
   ]
  },
  {
   "cell_type": "code",
   "execution_count": null,
   "metadata": {},
   "outputs": [],
   "source": [
    "crawler = Crawler(\"ga.de\")\n",
    "print(crawler.rss_feed)"
   ]
  },
  {
   "cell_type": "code",
   "execution_count": null,
   "metadata": {},
   "outputs": [],
   "source": [
    "crawler = Crawler(\"abendblatt.de\")\n",
    "print(crawler.rss_feed)"
   ]
  },
  {
   "cell_type": "code",
   "execution_count": null,
   "metadata": {},
   "outputs": [],
   "source": [
    "crawler = Crawler(\"haz.de\")\n",
    "print(crawler.rss_feed)"
   ]
  },
  {
   "cell_type": "code",
   "execution_count": null,
   "metadata": {},
   "outputs": [],
   "source": [
    "crawler = Crawler(\"kn-online.de\")\n",
    "print(crawler.rss_feed)"
   ]
  },
  {
   "cell_type": "code",
   "execution_count": null,
   "metadata": {},
   "outputs": [],
   "source": [
    "crawler = Crawler(\"ksta.de\")\n",
    "print(crawler.rss_feed)"
   ]
  },
  {
   "cell_type": "code",
   "execution_count": null,
   "metadata": {},
   "outputs": [],
   "source": [
    "crawler = Crawler(\"ln-online.de\")\n",
    "print(crawler.rss_feed)"
   ]
  },
  {
   "cell_type": "code",
   "execution_count": null,
   "metadata": {},
   "outputs": [],
   "source": [
    "crawler = Crawler(\"op-marburg.de\")\n",
    "print(crawler.rss_feed)"
   ]
  },
  {
   "cell_type": "code",
   "execution_count": null,
   "metadata": {},
   "outputs": [],
   "source": [
    "crawler = Crawler(\"freiepresse.de\")\n",
    "print(crawler.rss_feed)"
   ]
  },
  {
   "cell_type": "code",
   "execution_count": null,
   "metadata": {},
   "outputs": [],
   "source": [
    "crawler = Crawler(\"stern.de\")\n",
    "print(crawler.rss_feed)"
   ]
  },
  {
   "cell_type": "code",
   "execution_count": null,
   "metadata": {},
   "outputs": [],
   "source": [
    "crawler = Crawler(\"mainpost.de\")\n",
    "print(crawler.rss_feed)"
   ]
  },
  {
   "cell_type": "code",
   "execution_count": null,
   "metadata": {},
   "outputs": [],
   "source": [
    "crawler = Crawler(\"bz-berlin.de\")\n",
    "print(crawler.rss_feed)"
   ]
  },
  {
   "cell_type": "code",
   "execution_count": null,
   "metadata": {},
   "outputs": [],
   "source": [
    "crawler = Crawler(\"fla.de\")\n",
    "print(crawler.rss_feed)"
   ]
  },
  {
   "cell_type": "code",
   "execution_count": null,
   "metadata": {},
   "outputs": [],
   "source": [
    "crawler = Crawler(\"stuttgart-journal.de\")\n",
    "print(crawler.rss_feed)"
   ]
  },
  {
   "cell_type": "code",
   "execution_count": null,
   "metadata": {},
   "outputs": [],
   "source": [
    "crawler = Crawler(\"express.de\")\n",
    "print(crawler.rss_feed)"
   ]
  },
  {
   "cell_type": "code",
   "execution_count": null,
   "metadata": {},
   "outputs": [],
   "source": [
    "crawler = Crawler(\"rheinpflaz.de\")\n",
    "print(crawler.rss_feed)"
   ]
  },
  {
   "cell_type": "code",
   "execution_count": null,
   "metadata": {},
   "outputs": [],
   "source": [
    "crawler = Crawler(\"aachener-zeitung.de\")\n",
    "print(crawler.rss_feed)"
   ]
  },
  {
   "cell_type": "code",
   "execution_count": null,
   "metadata": {},
   "outputs": [],
   "source": [
    "crawler = Crawler(\"aachener-nachrichten.de\")\n",
    "print(crawler.rss_feed)"
   ]
  },
  {
   "cell_type": "code",
   "execution_count": null,
   "metadata": {},
   "outputs": [],
   "source": [
    "crawler = Crawler(\"nordkurier.de\")\n",
    "print(crawler.rss_feed)"
   ]
  },
  {
   "cell_type": "code",
   "execution_count": null,
   "metadata": {},
   "outputs": [],
   "source": [
    "crawler = Crawler(\"derwesten.de\")\n",
    "print(crawler.rss_feed)"
   ]
  },
  {
   "cell_type": "code",
   "execution_count": null,
   "metadata": {},
   "outputs": [],
   "source": [
    "crawler = Crawler(\"wiwo.de\")\n",
    "print(crawler.rss_feed)"
   ]
  },
  {
   "cell_type": "code",
   "execution_count": null,
   "metadata": {},
   "outputs": [],
   "source": [
    "crawler = Crawler(\"wz.de\")\n",
    "print(crawler.rss_feed)"
   ]
  },
  {
   "cell_type": "code",
   "execution_count": null,
   "metadata": {},
   "outputs": [],
   "source": [
    "crawler = Crawler(\"stuttgarter-zeitung.de\")\n",
    "print(crawler.rss_feed)"
   ]
  },
  {
   "cell_type": "code",
   "execution_count": null,
   "metadata": {},
   "outputs": [],
   "source": [
    "crawler = Crawler(\"ruhrnachrichten.de\")\n",
    "print(crawler.rss_feed)"
   ]
  },
  {
   "cell_type": "code",
   "execution_count": null,
   "metadata": {},
   "outputs": [],
   "source": [
    "crawler = Crawler(\"om-online.de\")\n",
    "print(crawler.rss_feed)"
   ]
  },
  {
   "cell_type": "code",
   "execution_count": null,
   "metadata": {},
   "outputs": [],
   "source": [
    "crawler = Crawler(\"rp-online.de\")\n",
    "print(crawler.rss_feed)"
   ]
  },
  {
   "cell_type": "code",
   "execution_count": null,
   "metadata": {},
   "outputs": [],
   "source": [
    "crawler = Crawler(\"ostsee-zeitung.de\")\n",
    "print(crawler.rss_feed)"
   ]
  },
  {
   "cell_type": "code",
   "execution_count": null,
   "metadata": {},
   "outputs": [],
   "source": [
    "crawler = Crawler(\"augsburger-allgemeine.de\")\n",
    "print(crawler.rss_feed)"
   ]
  },
  {
   "cell_type": "code",
   "execution_count": null,
   "metadata": {},
   "outputs": [],
   "source": [
    "crawler = Crawler(\"ln-online.de\")\n",
    "print(crawler.rss_feed)"
   ]
  },
  {
   "cell_type": "code",
   "execution_count": null,
   "metadata": {},
   "outputs": [],
   "source": [
    "crawler = Crawler(\"lvz.de\")\n",
    "print(crawler.rss_feed)"
   ]
  },
  {
   "cell_type": "code",
   "execution_count": null,
   "metadata": {},
   "outputs": [],
   "source": [
    "crawler = Crawler(\"stuttgarter-nachrichten.de\")\n",
    "print(crawler.rss_feed)"
   ]
  },
  {
   "cell_type": "code",
   "execution_count": null,
   "metadata": {},
   "outputs": [],
   "source": [
    "crawler = Crawler(\"https://www.schwaebische-post.de\")\n",
    "print(crawler.rss_feed)"
   ]
  },
  {
   "cell_type": "code",
   "execution_count": null,
   "metadata": {},
   "outputs": [],
   "source": [
    "crawler = Crawler(\"rundschau-online.de\")\n",
    "print(crawler.rss_feed)"
   ]
  },
  {
   "cell_type": "code",
   "execution_count": null,
   "metadata": {},
   "outputs": [],
   "source": [
    "crawler = Crawler(\"kurier.de\")\n",
    "print(crawler.rss_feed)"
   ]
  },
  {
   "cell_type": "code",
   "execution_count": null,
   "metadata": {},
   "outputs": [],
   "source": [
    "crawler = Crawler(\"fnweb.de\")\n",
    "print(crawler.rss_feed)"
   ]
  },
  {
   "cell_type": "code",
   "execution_count": null,
   "metadata": {},
   "outputs": [],
   "source": [
    "crawler = Crawler(\"saechsische.de\")\n",
    "print(crawler.rss_feed)"
   ]
  },
  {
   "cell_type": "raw",
   "metadata": {},
   "source": [
    "More german newspapers:\n",
    "----------------------------------\n",
    "Westfälische Nachrichten\n",
    "Bergedorfer Zeitung (Hamburg)\n",
    "Cicero\n",
    "Borsen Zeitung\n",
    "ktiv\n",
    "Epoch Times\n",
    "Merkur\n",
    "Backnanger Kreiszeitung\n",
    "Badisches Tagblatt\n",
    "Zollern Alb Kurier\n",
    "Heilbronner Stimme\n",
    "Morgen Web\n",
    "Der Teckbote\n",
    "Leonberger Kreiszeitung\n",
    "Muhlacker Tagblatt\n",
    "Oberpfalznetz\n",
    "Ludwigsburger Kreiszeitung\n",
    "Lippische Landes-Zeitung\n",
    "Neue Osnabrücker Zeitung\n",
    "Lauterbacher Anzeiger\n",
    "Landeszeitung für die Lüneburger Heide\n",
    "Passauer Neue Presse\n",
    "Lahrer Zeitung\n",
    "Kreiszeitung Wesermarsch\n",
    "Kreiszeitung Böblinger Bote\n",
    "Kreis-Anzeiger\n",
    "Jeversches Wochenblatt\n",
    "Schwäbische Zeitung\n",
    "Ibbenbürener Volkszeitung\n",
    "Hinterländer Anzeiger\n",
    "Hildesheimer Allgemeine Zeitung\n",
    "Hessische/Niedersächsische Allgemeine\n",
    "Hersfelder Zeitung\n",
    "Hersbrucker Zeitung\n",
    "Neue Westfälische\n",
    "Hellweger Anzeiger\n",
    "Märkische Allgemeine\n",
    "Die Harke\n",
    "Haller Kreisblatt\n",
    "Hanauer Anzeiger\n",
    "Grafschafter Nachrichten\n",
    "Goslarsche Zeitung\n",
    "Gmünder Tagespost\n",
    "Gießener Anzeiger\n",
    "Gelnhäuser Tageblatt\n",
    "Gelnhäuser Neue Zeitung\n",
    "Gäubote\n",
    "Fuldaer Zeitung\n",
    "Freies Wort\n",
    "Frankfurter Neue Presse\n",
    "Frankenpost\n",
    "Waldeckische Landeszeitung\n",
    "Flensburger Tageblatt\n",
    "Elbe-Jeetzel-Zeitung\n",
    "Einbecker Morgenpost\n",
    "Göttinger Tageblatt\n",
    "Dülmener Zeitung\n",
    "Dresdner Neueste Nachrichten\n",
    "Donaukurier\n",
    "Offenbach-Post\n",
    "DEWEZET\n",
    "Echo\n",
    "Cuxhavener Nachrichten\n",
    "Coburger Tageblatt\n",
    "Oberbayerisches Volksblatt\n",
    "Huffington Post\n",
    "Der-Postillon\n",
    "Mitteldeutsche Zeitung\n",
    "Borse Online\n",
    "Schwarzwalder Bote\n",
    "Markische Oderzeitung\n",
    "Schweriner Volkszeitung\n",
    "Neue Presse\n",
    "Ostthuringer Zeitung\n",
    "All In\n",
    "Mindener Tageblatt\n",
    "Peiner Allgemeine Zeitung\n",
    "Reutlinger General Anzeiger\n",
    "Cellesche Zeitung\n",
    "Schaumburger Nachrichten\n",
    "Soester Anzeiger\n",
    "Obermain Tagblatt\n",
    "Siegener Zeitung\n",
    "Sauerland Kurier\n",
    "Solinger Tageblatt\n",
    "Norddeutsche Neueste Nachrichten\n",
    "Tip Berlin\n",
    "Allgemeine Zeitung\n",
    "Nordsee Zeitung\n",
    "idowa\n",
    "Eßlinger Zeitung\n",
    "TAGEBLATT\n",
    "Boyens-Medien\n",
    "Bremervörder Zeitung\n",
    "Main-Echo\n",
    "Borkener Zeitung\n",
    "Böhme-Zeitung\n",
    "Bocholter-Borkener Volksblatt\n",
    "Bietigheimer Zeitung\n",
    "Berchtesgadener Anzeiger\n",
    "Barmstedter Zeitung\n",
    "Ärzte Zeitung\n",
    "Anzeiger für Harlingerland\n",
    "Nordwest-Zeitung\n",
    "Altmühl-Bote\n",
    "Lüdenscheider Nachrichten\n",
    "Gießener Allgemeine\n",
    "Allgäuer Zeitung\n",
    "Aller-Zeitung\n",
    "Aichacher Zeitung\n",
    "Die Glocke (Tageszeitung)\n",
    "Weser-Kurier\n",
    "Offenburger Tageblatt\n",
    "Badische Neueste Nachrichten (BNN)\n",
    "Südkurier\n",
    "Nürnberger Nachrichten\n",
    "Preußische Allgemeine Zeitung\n",
    "Der Freitag"
   ]
  }
 ],
 "metadata": {
  "kernelspec": {
   "display_name": "Python 3",
   "language": "python",
   "name": "python3"
  },
  "language_info": {
   "codemirror_mode": {
    "name": "ipython",
    "version": 3
   },
   "file_extension": ".py",
   "mimetype": "text/x-python",
   "name": "python",
   "nbconvert_exporter": "python",
   "pygments_lexer": "ipython3",
   "version": "3.7.4"
  }
 },
 "nbformat": 4,
 "nbformat_minor": 4
}
